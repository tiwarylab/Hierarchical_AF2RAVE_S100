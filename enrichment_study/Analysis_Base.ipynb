{
 "cells": [
  {
   "cell_type": "markdown",
   "id": "64fb485c-63dd-4382-a613-e6daeb8e28e2",
   "metadata": {},
   "source": [
    "## Library file\n",
    "This file is not meant to be run directly. It stores many common functions and is imported from the remaining notebooks.<br/>"
   ]
  },
  {
   "cell_type": "code",
   "execution_count": 1,
   "id": "51e5ba2b-7103-448e-a6ca-66e1cf0f4b38",
   "metadata": {},
   "outputs": [],
   "source": [
    "import numpy as np\n",
    "import matplotlib.pyplot as plt\n",
    "import pandas as pd\n",
    "from rdkit.ML.Scoring import Scoring\n",
    "%run DOCK_OutputParser.ipynb"
   ]
  },
  {
   "cell_type": "code",
   "execution_count": null,
   "id": "67847df9-edeb-4cb7-becc-af70ac395374",
   "metadata": {},
   "outputs": [],
   "source": [
    "def positive_detector(objects):\n",
    "    return ([\"oleObject\" in s for s in objects])"
   ]
  },
  {
   "cell_type": "code",
   "execution_count": null,
   "id": "319b25dc-c66b-4ac5-bc9d-b143e368c109",
   "metadata": {},
   "outputs": [],
   "source": [
    "def return_analysis_of(all_tdos,N_GOOD,N_TOT,N_MAX=None,bitmatch_fx=positive_detector): # Always N_MAX >= N_TOT\n",
    "    if N_MAX is None: N_MAX=N_GOOD\n",
    "    cdo=combine_DOCKOutputs(all_tdos,aggregate=np.nanmean) # nanmin should be used, but for benchmarking it is unreliable.\n",
    "    cdo.sort_scores()\n",
    "    \n",
    "    no_top=np.arange(1,N_MAX+1)\n",
    "    perfect_er=list(range(1,N_GOOD+1))+[N_GOOD]*(len(no_top)-N_GOOD)\n",
    "    perfect_er=(np.array(perfect_er,dtype=float)/no_top)\n",
    "    random_er=np.ones(N_TOT)*(N_GOOD/N_TOT)\n",
    "    random_er=random_er[:len(no_top)]\n",
    "    \n",
    "    agg_err=[]\n",
    "    for ti,tdo in enumerate(all_tdos+[cdo]):\n",
    "        tdo.sort_scores()\n",
    "        objects=list(tdo.score_dict.keys())\n",
    "        bitmatch=bitmatch_fx(objects)\n",
    "        no_er=[]\n",
    "        for n in range(1,N_MAX+1):\n",
    "            enrichment=np.sum(bitmatch[:n])/n\n",
    "            no_er.append(enrichment)\n",
    "        no_er=np.array(no_er)\n",
    "        agg_err.append(no_er)\n",
    "        #plt.plot(no_top,no_er*no_top,label=\"Raw\" if ti==0 else None,c=\"grey\",linewidth=2)\n",
    "    raw_err=np.stack(agg_err)\n",
    "    \n",
    "    comb_err=agg_err[-1]\n",
    "    agg_err=np.mean(raw_err[:-1],axis=0)\n",
    "    return cdo,no_top,comb_err,raw_err[:-1],agg_err,random_er"
   ]
  },
  {
   "cell_type": "code",
   "execution_count": null,
   "id": "353e19f1-d4dd-4e41-913d-55d33e2ff22d",
   "metadata": {},
   "outputs": [],
   "source": [
    "def plot_all(no_top,raw_err,agg_err,comb_err,random_er,N_GOOD,N_CHECK=None):\n",
    "    if N_CHECK is None: N_CHECK=int(0.02*N_GOOD)+1\n",
    "        \n",
    "    plt.figure(figsize=(10,8))\n",
    "    plt.title(\"DOCK results (MD Structures)\",fontsize=28)\n",
    "    plt.plot(no_top,random_er*no_top,label=\"Random\",linestyle=\"--\",c=\"purple\")\n",
    "    for ti in range(len(raw_err)):\n",
    "        no_er=raw_err[ti]\n",
    "        plt.plot(no_top,no_er*no_top,label=\"Raw\" if ti==0 else None,c=\"grey\",linewidth=2)\n",
    "    \n",
    "    plt.plot(no_top,agg_err*no_top,label=\"DOCK (mean)\",c=\"black\",linewidth=2)\n",
    "    plt.plot(no_top,comb_err*no_top,label=\"DOCK (agg)\",c=\"blue\",linewidth=2)\n",
    "    plt.legend(fontsize=18)\n",
    "    plt.xlabel(\"No. docked\",fontsize=21)\n",
    "    plt.ylabel(\"No of good ligands\",fontsize=21)\n",
    "    plt.xticks(fontsize=18)\n",
    "    plt.yticks(fontsize=18)\n",
    "    plt.xlim(0,500)\n",
    "    plt.ylim(0,N_GOOD+1)\n",
    "    plt.axvline(x=N_CHECK,c=\"red\",linestyle=\"--\")\n",
    "    plt.show()"
   ]
  },
  {
   "cell_type": "code",
   "execution_count": null,
   "id": "b7dd3f90-7b9d-4036-81fc-6e6d3ee4f7ec",
   "metadata": {},
   "outputs": [],
   "source": []
  }
 ],
 "metadata": {
  "kernelspec": {
   "display_name": "Python 3 (ipykernel)",
   "language": "python",
   "name": "python3"
  },
  "language_info": {
   "codemirror_mode": {
    "name": "ipython",
    "version": 3
   },
   "file_extension": ".py",
   "mimetype": "text/x-python",
   "name": "python",
   "nbconvert_exporter": "python",
   "pygments_lexer": "ipython3",
   "version": "3.10.16"
  }
 },
 "nbformat": 4,
 "nbformat_minor": 5
}
